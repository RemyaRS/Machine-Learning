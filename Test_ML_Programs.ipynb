{
  "nbformat": 4,
  "nbformat_minor": 0,
  "metadata": {
    "colab": {
      "name": "Test_ML_Programs.ipynb",
      "provenance": [],
      "authorship_tag": "ABX9TyM/jLajYxsvOc38y4pQXkSe",
      "include_colab_link": true
    },
    "kernelspec": {
      "name": "python3",
      "display_name": "Python 3"
    },
    "language_info": {
      "name": "python"
    }
  },
  "cells": [
    {
      "cell_type": "markdown",
      "metadata": {
        "id": "view-in-github",
        "colab_type": "text"
      },
      "source": [
        "<a href=\"https://colab.research.google.com/github/RemyaRS/Machine-Learning-Basics/blob/main/Test_ML_Programs.ipynb\" target=\"_parent\"><img src=\"https://colab.research.google.com/assets/colab-badge.svg\" alt=\"Open In Colab\"/></a>"
      ]
    },
    {
      "cell_type": "code",
      "execution_count": null,
      "metadata": {
        "colab": {
          "base_uri": "https://localhost:8080/"
        },
        "id": "DgOEXMZzExKY",
        "outputId": "c43c3554-bf5c-494c-d8fc-d764cde6da02"
      },
      "outputs": [
        {
          "output_type": "stream",
          "name": "stdout",
          "text": [
            "Accuracy of model :  0.9777777777777777\n",
            "classification report\n",
            "              precision    recall  f1-score   support\n",
            "\n",
            "           0       1.00      1.00      1.00        19\n",
            "           1       1.00      0.92      0.96        13\n",
            "           2       0.93      1.00      0.96        13\n",
            "\n",
            "    accuracy                           0.98        45\n",
            "   macro avg       0.98      0.97      0.97        45\n",
            "weighted avg       0.98      0.98      0.98        45\n",
            "\n"
          ]
        }
      ],
      "source": [
        "\"\"\"Q 1. Implement Navies Bayes classifier on Iris Dataset?\"\"\"\n",
        "\n",
        "\n",
        "import numpy as np\n",
        "import pandas as pd \n",
        "import matplotlib.pyplot as plt\n",
        "\n",
        "# Import dataset and classes needed in this example:\n",
        "from sklearn.datasets import load_iris\n",
        "from sklearn.model_selection import train_test_split\n",
        "\n",
        "# Import Gaussian Naive Bayes classifier:\n",
        "from sklearn.naive_bayes import GaussianNB\n",
        "from sklearn.metrics import accuracy_score, classification_report\n",
        "\n",
        "# Load dataset: \n",
        "iris = load_iris()\n",
        "\n",
        "# Organize data:\n",
        "y = iris['target']\n",
        "x = iris['data']\n",
        "\n",
        "# Split dataset into random train and test subsets:\n",
        "x_train, x_test, y_train, y_test = train_test_split(x,y, test_size=0.3, random_state=42)\n",
        "\n",
        "# Initialize classifier:\n",
        "gnb = GaussianNB()\n",
        "\n",
        "# Train the classifier:\n",
        "model = gnb.fit(x_train, y_train)\n",
        "\n",
        "# Make predictions with the classifier:\n",
        "y_pred = gnb.predict(x_test)\n",
        "\n",
        "# Evaluate label (subsets) accuracy:\n",
        "print(\"Accuracy of model : \",accuracy_score(y_test, y_pred))\n",
        "print(\"classification report\")\n",
        "print(classification_report(y_test, y_pred))"
      ]
    },
    {
      "cell_type": "code",
      "source": [
        "\"\"\"#Q 2. Implement SVM Classifier using Breast Cancer Dataset\"\"\"\n",
        "\n",
        "#Import scikit-learn dataset library\n",
        "from sklearn import datasets\n",
        "import pandas as pd\n",
        "import numpy as np\n",
        "\n",
        "#Load dataset\n",
        "cancer = datasets.load_breast_cancer()\n",
        "\n",
        "# print data(feature)shape\n",
        "cancer.data.shape\n",
        "\n",
        "# Import train_test_split function\n",
        "from sklearn.model_selection import train_test_split\n",
        "\n",
        "# Split dataset into training set and test set\n",
        "X_train, X_test, y_train, y_test = train_test_split(cancer.data, cancer.target, test_size=0.3,random_state=109) # 70% training and 30% test\n",
        "\n",
        "#Import svm model\n",
        "from sklearn.svm import SVC\n",
        "\n",
        "#Create a svm Classifier\n",
        "clf = SVC(kernel='linear') # Linear Kernel\n",
        "\n",
        "#Train the model using the training sets\n",
        "clf.fit(X_train, y_train)\n",
        "\n",
        "#Predict the response for test dataset\n",
        "y_pred = clf.predict(X_test)\n",
        "\n",
        "#Import scikit-learn metrics module for accuracy calculation\n",
        "from sklearn.metrics import classification_report, confusion_matrix,accuracy_score\n",
        "\n",
        "# Model Accuracy: how often is the classifier correct?\n",
        "cm=np.array(confusion_matrix(y_test,y_pred,labels=[1,0]))\n",
        "acc=accuracy_score(y_test,y_pred)\n",
        "print(\"Accuracy score of the model is:\",acc)\n",
        "print(\"classification report\")\n",
        "print(classification_report(y_test,y_pred))"
      ],
      "metadata": {
        "colab": {
          "base_uri": "https://localhost:8080/"
        },
        "id": "bY8rZlTCFS8_",
        "outputId": "a531f160-2d7a-4cdc-8db9-e5f8107a743c"
      },
      "execution_count": null,
      "outputs": [
        {
          "output_type": "stream",
          "name": "stdout",
          "text": [
            "Accuracy score of the model is: 0.9649122807017544\n",
            "classification report\n",
            "              precision    recall  f1-score   support\n",
            "\n",
            "           0       0.94      0.97      0.95        63\n",
            "           1       0.98      0.96      0.97       108\n",
            "\n",
            "    accuracy                           0.96       171\n",
            "   macro avg       0.96      0.97      0.96       171\n",
            "weighted avg       0.97      0.96      0.97       171\n",
            "\n"
          ]
        }
      ]
    },
    {
      "cell_type": "code",
      "source": [
        "\"\"\"#Q 3. Implement Decision tree Classifier for Breast Cancer Dataset\"\"\"\n",
        "\n",
        "import numpy as np\n",
        "import pandas as pd \n",
        "import matplotlib.pyplot as plt\n",
        "from sklearn.tree import DecisionTreeClassifier\n",
        "from sklearn.datasets import load_breast_cancer\n",
        "from sklearn.model_selection import train_test_split\n",
        "from sklearn.metrics import classification_report, confusion_matrix,accuracy_score\n",
        "cancer = load_breast_cancer()\n",
        "\n",
        "cancer.keys()\n",
        "\n",
        "X = cancer['data'] \n",
        "y = cancer['target']\n",
        "\n",
        "X_train,X_test,y_train,y_test = train_test_split(X,y,test_size = 0.3,stratify=y,random_state=12)\n",
        "\n",
        "len(X_train)\n",
        "\n",
        "decision_tree = DecisionTreeClassifier(max_depth=2,random_state=15)\n",
        "decision_tree.fit(X_train,y_train)\n",
        "\n",
        "y_pred = decision_tree.predict(X_test)\n",
        "\n",
        "print(\"Confusion Matrix\")\n",
        "print(\"\")\n",
        "print(confusion_matrix(y_test,y_pred))\n",
        "\n",
        "acc=accuracy_score(y_test,y_pred)\n",
        "print(\"Accuracy score of the model is:\",acc)\n",
        "print(\"classification report\")\n",
        "print(classification_report(y_test,y_pred))"
      ],
      "metadata": {
        "colab": {
          "base_uri": "https://localhost:8080/"
        },
        "id": "xJVukOlHFGkg",
        "outputId": "b6404951-e515-453c-9ae8-72c52c52c6f2"
      },
      "execution_count": null,
      "outputs": [
        {
          "output_type": "stream",
          "name": "stdout",
          "text": [
            "Confusion Matrix\n",
            "\n",
            "[[58  6]\n",
            " [13 94]]\n",
            "Accuracy score of the model is: 0.8888888888888888\n",
            "classification report\n",
            "              precision    recall  f1-score   support\n",
            "\n",
            "           0       0.82      0.91      0.86        64\n",
            "           1       0.94      0.88      0.91       107\n",
            "\n",
            "    accuracy                           0.89       171\n",
            "   macro avg       0.88      0.89      0.88       171\n",
            "weighted avg       0.89      0.89      0.89       171\n",
            "\n"
          ]
        }
      ]
    },
    {
      "cell_type": "code",
      "source": [
        "\"\"\"#Q 4. Implement KNN for Wine dataset \"\"\"\n",
        "\n",
        "from sklearn.neighbors import KNeighborsClassifier \n",
        "from sklearn.datasets import load_wine\n",
        "from sklearn.model_selection import train_test_split\n",
        "from sklearn.metrics import accuracy_score\n",
        "\n",
        "wine=load_wine()\n",
        "wine.keys()\n",
        "\n",
        "x=wine['data']\n",
        "y=wine['target']\n",
        "\n",
        "x_train,x_test,y_train,y_test=train_test_split(x,y,test_size=0.3,random_state=21,stratify=y)\n",
        "\n",
        "knn=KNeighborsClassifier(n_neighbors=7)\n",
        "knn.fit(x_train,y_train)\n",
        "y_pred=knn.predict(x_test)\n",
        "\n",
        "acc=accuracy_score(y_pred,y_test)\n",
        "print(\"Accuracy : \",acc)\n",
        "\n",
        "print(\"classification report\")\n",
        "print(classification_report(y_test,y_pred))"
      ],
      "metadata": {
        "colab": {
          "base_uri": "https://localhost:8080/"
        },
        "id": "3ZJ-uPncFCSH",
        "outputId": "41a21661-7265-43b1-d4d1-f0b8dc10a4e4"
      },
      "execution_count": null,
      "outputs": [
        {
          "output_type": "stream",
          "name": "stdout",
          "text": [
            "Accuracy :  0.7962962962962963\n",
            "classification report\n",
            "              precision    recall  f1-score   support\n",
            "\n",
            "           0       0.89      0.94      0.92        18\n",
            "           1       0.83      0.71      0.77        21\n",
            "           2       0.65      0.73      0.69        15\n",
            "\n",
            "    accuracy                           0.80        54\n",
            "   macro avg       0.79      0.80      0.79        54\n",
            "weighted avg       0.80      0.80      0.80        54\n",
            "\n"
          ]
        }
      ]
    },
    {
      "cell_type": "code",
      "source": [
        "\"\"\"#Q 5. find optimum number of cluster for Iris dataset \"\"\"\n",
        "\n",
        "from sklearn.cluster import KMeans\n",
        "from sklearn.datasets import load_iris\n",
        "from sklearn.model_selection import train_test_split\n",
        "from sklearn.metrics import accuracy_score\n",
        "import numpy as np\n",
        "import pandas as pd\n",
        "import matplotlib.pyplot as plt\n",
        "\n",
        "# Load dataset: \n",
        "data = load_iris()\n",
        "feature_names = data['feature_names']\n",
        "features = data['data']\n",
        "\n",
        "feature_names\n",
        "\n",
        "wcss=[]\n",
        "for i in range(1,7):\n",
        "  kmeans = KMeans(i)\n",
        "  kmeans.fit(x)\n",
        "  wcss_iter = kmeans.inertia_\n",
        "  wcss.append(wcss_iter)\n",
        "\n",
        "\n",
        "number_clusters = range(1,7)\n",
        "plt.plot(number_clusters,wcss)\n",
        "plt.title('The Elbow title')\n",
        "plt.xlabel('Number of clusters')\n",
        "plt.ylabel('WCSS')\n",
        "\n"
      ],
      "metadata": {
        "colab": {
          "base_uri": "https://localhost:8080/",
          "height": 312
        },
        "id": "FoxIkVi1E70Q",
        "outputId": "087dce85-77e0-44a3-8667-6e868502578a"
      },
      "execution_count": null,
      "outputs": [
        {
          "output_type": "execute_result",
          "data": {
            "text/plain": [
              "Text(0, 0.5, 'WCSS')"
            ]
          },
          "metadata": {},
          "execution_count": 38
        },
        {
          "output_type": "display_data",
          "data": {
            "image/png": "[encoded data removed]",
            "text/plain": [
              "<Figure size 432x288 with 1 Axes>"
            ]
          },
          "metadata": {
            "needs_background": "light"
          }
        }
      ]
    },
    {
      "cell_type": "code",
      "source": [
        "kmeans = KMeans(4)\n",
        "identified_clusters = kmeans.fit_predict(features)\n",
        "print(identified_clusters)"
      ],
      "metadata": {
        "colab": {
          "base_uri": "https://localhost:8080/"
        },
        "id": "6mGZUQGEw8AE",
        "outputId": "efbe7516-0d4e-42db-d190-e3278841dfb9"
      },
      "execution_count": null,
      "outputs": [
        {
          "output_type": "stream",
          "name": "stdout",
          "text": [
            "[1 1 1 1 1 1 1 1 1 1 1 1 1 1 1 1 1 1 1 1 1 1 1 1 1 1 1 1 1 1 1 1 1 1 1 1 1\n",
            " 1 1 1 1 1 1 1 1 1 1 1 1 1 3 3 3 2 3 2 3 2 3 2 2 2 2 3 2 3 2 2 3 2 3 2 3 3\n",
            " 3 3 3 3 3 2 2 2 2 3 2 3 3 3 2 2 2 3 2 2 2 2 2 3 2 2 0 3 0 3 0 0 2 0 0 0 3\n",
            " 3 0 3 3 0 0 0 0 3 0 3 0 3 0 0 3 3 0 0 0 0 0 3 3 0 0 3 3 0 0 0 3 0 0 0 3 3\n",
            " 0 3]\n"
          ]
        }
      ]
    },
    {
      "cell_type": "code",
      "source": [
        "\"\"\"#Q 6. fit a linear regression for given dataset\"\"\"\n",
        "\n",
        "import numpy as np\n",
        "import matplotlib.pyplot as plt\n",
        "import pandas as pd\n",
        "import seaborn as sns\n",
        "\n",
        "dataset=pd.read_csv(\"/content/Salary_Data.csv\")\n",
        "\n",
        "sns.scatterplot(dataset[\"YearsExperience\"],dataset[\"Salary\"])\n",
        "\n",
        "dataset.corr()\n",
        "\n",
        "x=dataset[[\"YearsExperience\"]]\n",
        "y=dataset[\"Salary\"]\n",
        "\n",
        "from sklearn.model_selection import train_test_split\n",
        "x_train, x_test, y_train, y_test = train_test_split(x,y,test_size=0.2,random_state=42)\n",
        "\n",
        "from sklearn.linear_model import LinearRegression\n",
        "lr_model=LinearRegression()\n",
        "\n",
        "#Train the model\n",
        "lr_model.fit(x_train,y_train)\n",
        "\n",
        "y_pred_train=lr_model.predict(x_train)\n",
        "\n",
        "plt.scatter(x_train,y_train,label=\"Actual Points\")\n",
        "plt.plot(x_train,y_pred_train,label=\"Predicted Points\",color= \"red\")\n",
        "plt.xlabel(\"Experience\")\n",
        "plt.ylabel(\"Salary\")\n",
        "plt.legend()\n",
        "plt.show()\n",
        "\n",
        "# prediction\n",
        "y_pred=lr_model.predict(x_test)\n",
        "\n",
        "# coefficient of regression\n",
        "print(\"Coefficient x or slope is : \", lr_model.coef_)\n",
        "\n",
        "# intercept of regression\n",
        "\n",
        "print(\"intercept is : \", lr_model.intercept_)"
      ],
      "metadata": {
        "colab": {
          "base_uri": "https://localhost:8080/",
          "height": 369
        },
        "id": "fJB1zFrRE3VG",
        "outputId": "90261954-3a44-4427-e6ac-574266b4784a"
      },
      "execution_count": null,
      "outputs": [
        {
          "output_type": "stream",
          "name": "stderr",
          "text": [
            "/usr/local/lib/python3.7/dist-packages/seaborn/_decorators.py:43: FutureWarning: Pass the following variables as keyword args: x, y. From version 0.12, the only valid positional argument will be `data`, and passing other arguments without an explicit keyword will result in an error or misinterpretation.\n",
            "  FutureWarning\n"
          ]
        },
        {
          "output_type": "display_data",
          "data": {
            "image/png": "[encoded data removed]",
            "text/plain": [
              "<Figure size 432x288 with 1 Axes>"
            ]
          },
          "metadata": {
            "needs_background": "light"
          }
        },
        {
          "output_type": "stream",
          "name": "stdout",
          "text": [
            "Coefficient x or slope is :  [9423.81532303]\n",
            "intercept is :  25321.583011776813\n"
          ]
        }
      ]
    }
  ]
}